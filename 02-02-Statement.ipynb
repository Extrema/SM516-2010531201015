{
 "cells": [
  {
   "cell_type": "markdown",
   "metadata": {},
   "source": [
    "# <center> Statement"
   ]
  },
  {
   "cell_type": "markdown",
   "metadata": {},
   "source": [
    "<img src=\"https://drive.google.com/uc?id=11I962_LXGgw2LFePPXDhtSGjLRFb2XlN\" align=right width=100>"
   ]
  },
  {
   "cell_type": "markdown",
   "metadata": {},
   "source": [
    "<div align=right> กรอภิชิต เหง้าพันธ์ <br>นักศึกษา aceskorn555@outlook.com</div>"
   ]
  },
  {
   "cell_type": "markdown",
   "metadata": {},
   "source": [
    "**ลำดับขั้นของไพธอน**\n",
    "1. Programs are composed of modules.\n",
    "2. Modules contain statements.\n",
    "3. Statements contain expressions.\n",
    "4. Expressions create and process objects."
   ]
  },
  {
   "cell_type": "markdown",
   "metadata": {},
   "source": [
    "## Python Statement"
   ]
  },
  {
   "cell_type": "markdown",
   "metadata": {},
   "source": [
    "<table>\n",
    "    <tr>\n",
    "        <td><div align=center><b> Statement </b></div>\n",
    "        <td><div align=center><b>หน้าที่ (Role) </b></div>\n",
    "        <td><div align=center><b>ตัวอย่าง(Example)</b></div>\n",
    "    <tr>\n",
    "            <td> Assignment การให้ค่า\n",
    "            <td><div align=center> Creating references  สร้างการชี้ไปที่ค่า\n",
    "            <td><pre><div align=center>a,b = 'good' , 'bad'</pre> \n",
    "            <div align=center>ทางขวามือเรียกว่า Literals</div>\n",
    "   <tr>\n",
    "            <td> Calls and other expressions\n",
    "            <td><div align=center> Running functions\n",
    "            <td><pre><div align=center>log.write(\"spam, ham\")</pre> \n",
    "   <tr>\n",
    "            <td><div align=center>print calls \n",
    "            <td><div align=center>Printing objects \n",
    "            <td><pre><div align=center>print('The Killer', joke)</pre> \n",
    "   <tr>\n",
    "            <td><div align=center>if/elif/else\n",
    "            <td><div align=center>Selecting actions\n",
    "            <td><pre><div align=center>if \"python\" in text : \n",
    "   print(text)</pre> \n",
    "    <tr>\n",
    "            <td><div align=center>for/else\n",
    "            <td><div align=center>Iteration\n",
    "            <td><pre><div align=center>for x in mylist  \n",
    "   print(x)</pre> \n",
    "    <tr>\n",
    "            <td><div align=center>while/else\n",
    "            <td><div align=center>General loops\n",
    "            <td><pre><div align=center>while X > Y : \n",
    "   print('hello')</pre>  \n",
    "    <tr>\n",
    "            <td><div align=center>pass\n",
    "            <td><div align=center>Empty placeholder\n",
    "            <td><pre><div align=center>while True:\n",
    "   pass</pre> \n",
    "    <tr>\n",
    "            <td><div align=center>break\n",
    "            <td><div align=center>Loop exit \n",
    "            <td><pre><div align=center>while True:\n",
    "   if exittest(): break</pre> \n",
    "    <tr>\n",
    "            <td><div align=center>continue\n",
    "            <td><div align=center>Loop continue \n",
    "            <td><pre><div align=center>while True:\n",
    "  if skiptest(): continue</pre> \n",
    "    <tr>\n",
    "            <td><div align=center>def\n",
    "            <td><div align=center>Loop continue \n",
    "            <td><pre><div align=center>while True:\n",
    "  if skiptest(): continue</pre> \n",
    "    <tr>\n",
    "            <td><div align=center>return\n",
    "            <td><div align=center>Functions results \n",
    "            <td><pre><div align=center>def f(a, b, c=1, *d):\n",
    "  return a+b+c+d[0]</pre> \n",
    "    <tr>\n",
    "            <td><div align=center>yield\n",
    "            <td><div align=center>Generator functions\n",
    "            <td><pre><div align=center>def gen(n):\n",
    "            for i in n: yield i*2</pre> \n",
    "    <tr>\n",
    "            <td><div align=center>global\n",
    "            <td><div align=center>Namespaces \n",
    "            <td><pre><div align=center>x = 'old'\n",
    "  def function():<div align=right>global x,  y; x = 'new'</pre> \n",
    "    <tr>\n",
    "            <td><div align=center>nonlocal\n",
    "            <td><div align=center>Namespaces (3.X)\n",
    "            <td><pre><div align=center>def outer():\n",
    " x = 'old'</pre>\n",
    "    <tr>\n",
    "            <td><div align=center>import\n",
    "            <td><div align=center>Module access\n",
    "            <td><pre><div align=center>import sys</pre> \n",
    "    <tr>\n",
    "            <td><div align=center>from\n",
    "            <td><div align=center>Attribute access\n",
    "            <td><pre><div align=center>from sys import stdin</pre>\n",
    "    <tr>\n",
    "            <td><div align=center>class\n",
    "            <td><div align=center>Building objects\n",
    "            <td><pre><div align=left>class Subclass(Superclass):\n",
    "            staticData = []\n",
    "            def method(self): pass</pre>\n",
    "    <tr>\n",
    "            <td><div align=center>try/except/ finally \n",
    "            <td><div align=center>Catching exceptions\n",
    "            <td><pre><div align=left>try :\n",
    "    action()\n",
    "<div align=left>except :\n",
    "    print('action error')</pre>\n",
    "    <tr>\n",
    "           <td><div align=center>raise\n",
    "           <td><div align=center>Triggering exceptions\n",
    "           <td><div align=center>raise EndSearch(location)\n",
    "    <tr>\n",
    "           <td><div align=center>assert\n",
    "           <td><div align=center>Debugging checks\n",
    "           <td><div align=center>assert X > Y, ' X too small ' \n",
    "    <tr>\n",
    "           <td><div align=center>with/as\n",
    "           <td><div align=center>Context managers (3.X, 2.6+)\n",
    "           <td><div align=center>with open(' data ') as myfile:\n",
    "    process(myfile)</pre>\n",
    "    <tr>\n",
    "           <td><div align=center>del\n",
    "           <td><div align=center>Deleting references \n",
    "           <td><div align=center>del data[k]\n",
    "<div align=center>del data[i:j]\n",
    "<div align=center>del obj.attr\n",
    "<div align=center>del variable</pre>    \n",
    "</table>"
   ]
  },
  {
   "cell_type": "markdown",
   "metadata": {},
   "source": [
    "Statement บน Python มีลักษณะสำคัญ\n",
    "1. ใช้กั้นหน้า (Indent) บอก Statement ระดับของกั้นหน้า ตามเครื่องหมายทวิภาค (:)\n",
    "2. หลีกเลี่ยงการใช้วงเล็บ \"()\" วงเล็บใช้กับตัวเก็บ (COntainer) แบบ tuple"
   ]
  },
  {
   "cell_type": "markdown",
   "metadata": {},
   "source": [
    "## Assignment Statement"
   ]
  },
  {
   "cell_type": "markdown",
   "metadata": {},
   "source": [
    "\n",
    "<i>\n",
    "target = expression\n",
    "target1 = target2 = expression\n",
    "target1, target2 = expression1, expression2\n",
    "target1 += expression\n",
    "<br>\n",
    "target1, target2, ... = same-length-iterable\n",
    "(target1, target2, ...) = same-length-iterable\n",
    "[target1, target2, ...] = same-length-iterable\n",
    "target1, *target2, ... = matching-length-iterable\n"
   ]
  },
  {
   "cell_type": "markdown",
   "metadata": {},
   "source": [
    "### Sequence Assignment"
   ]
  },
  {
   "cell_type": "code",
   "execution_count": 1,
   "metadata": {},
   "outputs": [
    {
     "data": {
      "text/plain": [
       "(1, 2)"
      ]
     },
     "execution_count": 1,
     "metadata": {},
     "output_type": "execute_result"
    }
   ],
   "source": [
    "nudge = 1              # Basic assignment\n",
    "wink = 2\n",
    "A, B = nudge, wink     # Tuple assignment\n",
    "A, B"
   ]
  },
  {
   "cell_type": "code",
   "execution_count": 2,
   "metadata": {},
   "outputs": [
    {
     "data": {
      "text/plain": [
       "(2, 1)"
      ]
     },
     "execution_count": 2,
     "metadata": {},
     "output_type": "execute_result"
    }
   ],
   "source": [
    "'''การสลับค่า'''\n",
    "nudge = 1\n",
    "wink = 2\n",
    "nudge, wink = wink, nudge # Tuples: Swap values\n",
    "nudge, wink"
   ]
  },
  {
   "cell_type": "code",
   "execution_count": 4,
   "metadata": {},
   "outputs": [
    {
     "data": {
      "text/plain": [
       "3"
      ]
     },
     "execution_count": 4,
     "metadata": {},
     "output_type": "execute_result"
    }
   ],
   "source": [
    "[a,b,c]=(1,2,3)\n"
   ]
  },
  {
   "cell_type": "code",
   "execution_count": null,
   "metadata": {},
   "outputs": [],
   "source": []
  }
 ],
 "metadata": {
  "kernelspec": {
   "display_name": "Python 3",
   "language": "python",
   "name": "python3"
  },
  "language_info": {
   "codemirror_mode": {
    "name": "ipython",
    "version": 3
   },
   "file_extension": ".py",
   "mimetype": "text/x-python",
   "name": "python",
   "nbconvert_exporter": "python",
   "pygments_lexer": "ipython3",
   "version": "3.8.7"
  }
 },
 "nbformat": 4,
 "nbformat_minor": 4
}
